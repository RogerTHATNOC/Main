{
  "nbformat": 4,
  "nbformat_minor": 0,
  "metadata": {
    "colab": {
      "name": "elevatehack.ipynb",
      "provenance": []
    },
    "kernelspec": {
      "name": "python3",
      "display_name": "Python 3"
    }
  },
  "cells": [
    {
      "cell_type": "code",
      "metadata": {
        "id": "7mhg73Q3vmqm",
        "colab_type": "code",
        "outputId": "83f7e9fc-82ed-4b85-9609-02dfd823d49f",
        "colab": {
          "base_uri": "https://localhost:8080/",
          "height": 34
        }
      },
      "source": [
        "try:\n",
        "  # %tensorflow_version only exists in Colab.\n",
        "  %tensorflow_version 2.x\n",
        "except Exception:\n",
        "  pass"
      ],
      "execution_count": 1,
      "outputs": [
        {
          "output_type": "stream",
          "text": [
            "TensorFlow 2.x selected.\n"
          ],
          "name": "stdout"
        }
      ]
    },
    {
      "cell_type": "code",
      "metadata": {
        "id": "tcuou9zOvtJs",
        "colab_type": "code",
        "outputId": "61c2feb0-584a-4df9-d15b-0405cf301cc3",
        "colab": {
          "base_uri": "https://localhost:8080/",
          "height": 68
        }
      },
      "source": [
        "import itertools\n",
        "import os\n",
        "\n",
        "import matplotlib.pylab as plt\n",
        "import numpy as np\n",
        "\n",
        "import tensorflow as tf\n",
        "import tensorflow_hub as hub\n",
        "\n",
        "print(\"TF version:\", tf.__version__)\n",
        "print(\"Hub version:\", hub.__version__)\n",
        "print(\"GPU is\", \"available\" if tf.test.is_gpu_available() else \"NOT AVAILABLE\")"
      ],
      "execution_count": 2,
      "outputs": [
        {
          "output_type": "stream",
          "text": [
            "TF version: 2.0.0-rc1\n",
            "Hub version: 0.6.0\n",
            "GPU is NOT AVAILABLE\n"
          ],
          "name": "stdout"
        }
      ]
    },
    {
      "cell_type": "code",
      "metadata": {
        "id": "nGD9EXKWvvz_",
        "colab_type": "code",
        "outputId": "e890a13e-6588-4619-cb02-ab27cd151f3b",
        "colab": {
          "base_uri": "https://localhost:8080/",
          "height": 34
        }
      },
      "source": [
        "module_selection = (\"mobilenet_v2\", 224) #@param [\"(\\\"mobilenet_v2\\\", 224)\", \"(\\\"inception_v3\\\", 299)\"] {type:\"raw\", allow-input: true}\n",
        "handle_base, pixels = module_selection\n",
        "MODULE_HANDLE =\"https://tfhub.dev/google/tf2-preview/{}/feature_vector/4\".format(handle_base)\n",
        "IMAGE_SIZE = (pixels, pixels)\n",
        "print(\"Using {} with input size {}\".format(MODULE_HANDLE, IMAGE_SIZE))\n",
        "\n",
        "BATCH_SIZE = 32 #@param {type:\"integer\"}"
      ],
      "execution_count": 3,
      "outputs": [
        {
          "output_type": "stream",
          "text": [
            "Using https://tfhub.dev/google/tf2-preview/mobilenet_v2/feature_vector/4 with input size (224, 224)\n"
          ],
          "name": "stdout"
        }
      ]
    },
    {
      "cell_type": "code",
      "metadata": {
        "id": "Zz8AkCX7fN8W",
        "colab_type": "code",
        "colab": {
          "base_uri": "https://localhost:8080/",
          "height": 164
        },
        "outputId": "c29bc5b7-3646-4b02-a687-bc641298af11"
      },
      "source": [
        "# import shutil\n",
        "# shutil.rmtree('/root/.keras/datasets/km/coax')\n",
        "# os.listdir('/root/.keras/datasets/')"
      ],
      "execution_count": 7,
      "outputs": [
        {
          "output_type": "error",
          "ename": "FileNotFoundError",
          "evalue": "ignored",
          "traceback": [
            "\u001b[0;31m---------------------------------------------------------------------------\u001b[0m",
            "\u001b[0;31mFileNotFoundError\u001b[0m                         Traceback (most recent call last)",
            "\u001b[0;32m<ipython-input-7-8e3e7a77a747>\u001b[0m in \u001b[0;36m<module>\u001b[0;34m()\u001b[0m\n\u001b[0;32m----> 1\u001b[0;31m \u001b[0mos\u001b[0m\u001b[0;34m.\u001b[0m\u001b[0mlistdir\u001b[0m\u001b[0;34m(\u001b[0m\u001b[0;34m'/root/.keras/datasets/'\u001b[0m\u001b[0;34m)\u001b[0m\u001b[0;34m\u001b[0m\u001b[0;34m\u001b[0m\u001b[0m\n\u001b[0m",
            "\u001b[0;31mFileNotFoundError\u001b[0m: [Errno 2] No such file or directory: '/root/.keras/datasets/'"
          ]
        }
      ]
    },
    {
      "cell_type": "code",
      "metadata": {
        "id": "ORYZp4LYEjsJ",
        "colab_type": "code",
        "outputId": "3aa0ad7a-0c49-40aa-a238-0904898a3807",
        "colab": {
          "base_uri": "https://localhost:8080/",
          "height": 51
        }
      },
      "source": [
        "test_folder = 'test11'\n",
        "data_dir = tf.keras.utils.get_file(\n",
        "    fname='{}.zip'.format(test_folder),\n",
        "    origin='https://drive.google.com/uc?export=download&id=1MbP_DNTWVuRkUOK_cWMsqmNwu-xzPB-Y'\n",
        "    )\n",
        "# https://drive.google.com/open?id=1MbP_DNTWVuRkUOK_cWMsqmNwu-xzPB-Y\n",
        "# coaxid = 1Vxlmmck0TKMy-aDRNy9h9v4De1veMBpw\n",
        "# https://drive.google.com/open?id=1Vxlmmck0TKMy-aDRNy9h9v4De1veMBpw\n",
        "import zipfile\n",
        "with zipfile.ZipFile('/root/.keras/datasets/{}.zip'.format(test_folder), 'r') as zip_ref:\n",
        "    zip_ref.extractall('/root/.keras/datasets/km')\n",
        "print(os.listdir('/root/.keras/datasets/km/'))"
      ],
      "execution_count": 9,
      "outputs": [
        {
          "output_type": "stream",
          "text": [
            "Downloading data from https://drive.google.com/uc?export=download&id=1MbP_DNTWVuRkUOK_cWMsqmNwu-xzPB-Y\n",
            "23805952/Unknown - 5s 0us/step['__MACOSX', 'coax', 'ethernet_cable']\n"
          ],
          "name": "stdout"
        }
      ]
    },
    {
      "cell_type": "code",
      "metadata": {
        "id": "NyPrRT9-wBvF",
        "colab_type": "code",
        "outputId": "a97dda06-b388-456c-88dc-ac9ca33e553b",
        "colab": {
          "base_uri": "https://localhost:8080/",
          "height": 71
        }
      },
      "source": [
        "# import shutil\n",
        "etest = 'ethernet_cable'\n",
        "print(os.path.exists('/root/.keras/datasets/km/{}'.format(etest)))\n",
        "\n",
        "# shutil.rmtree('/root/.keras/datasets/km/__MACOSX')\n",
        "i = 1\n",
        "\n",
        "# os.mkdir('/root/.keras/datasets/km/{}'.format(etest))\n",
        "print(os.listdir('/root/.keras/datasets/km/{}'.format(etest)))\n",
        "\n",
        "# for filename in os.listdir('/root/.keras/datasets/km/{}'.format(etest)):\n",
        "#   print(filename)\n",
        "#   os.rename('/root/.keras/datasets/km/{etest}/{filename}'.format(etest=etest, filename=filename), '/root/.keras/datasets/km/{etest}/{new_filename}'.format(etest=etest, new_filename=str(i)+'.jpg'))\n",
        "#   print(i)\n",
        "#   i+=1\n",
        "\n",
        "\n",
        "\n",
        "# print(data_dir)"
      ],
      "execution_count": 11,
      "outputs": [
        {
          "output_type": "stream",
          "text": [
            "True\n",
            "['50cm Grey CAT6 Network Cable RCM Certified Ethernet LAN ....jpg', 'ethernet_1569099654029_13.jpg', 'ethernet_1569099654028_5.jpg', '25FT CAT5 MODEM CABLE BLACK ETHERNET LAN NETWORK RJ45 WIRE ....jpg', 'Gray RJ45 Cat5e Ethernet LAN Network Cable ΓÇô 3 feet.jpg', 'Passive Power Over Ethernet Cable Kit - from LINDY UK.jpg', 'CAT6 1000FT UTP SOLID NETWORK ETHERNET CABLE BULK WIRE ....jpg', 'ethernet_1569099654033_42.jpg', 'Cat 6 UTP LAN Blue Network Cable with stranded 568 B wire ....jpg', 'ethernet_1569099654029_15.jpg', '4K UHD HDMI High Speed with Ethernet Cable, 50ft.jpg', 'ethernet_1569099654033_49.jpg', '35ft Flat Cat5e White Ethernet Patch Cable, Molded Boot.jpg', '1000ft Shielded Blue Cat6 Ethernet Spool, Solid, Bulk.jpg', '20ft Cat5e Blue Ethernet Patch Cable, Bootless.jpg', 'High Speed HDMI Cable with Ethernet and 3D ΓÇô 25Feet.jpg', '1000ft Shielded Gray Cat6 Ethernet Spool, Solid, Bulk.jpg', 'Can I I use a cat6 network cable instead of a cat5e cable ....jpg', 'Network Cables and Accessories for LAN, WAN, Fiber Optic ....jpg', '10 Best Ethernet Patch Cables.jpg', '50FT 15M CAT5 CAT5E RJ45 ETHERNET CABLE CORD WIRE LAN ....jpg', 'ethernet_1569099654033_45.jpg', '3 Pack Black 50_ ft 50FT RJ45 CAT5 CAT5E LAN Network Cable ....jpg', 'ethernet_1569099654032_37.jpg', 'Cat6 Bulk Ethernet Cable 23AWG Bare Copper 550MHz 1000feet ....jpg', 'Monoprice 7ft 24AWG Cat6 500MHz Crossover Copper Ethernet ....jpg', '100 foot Cat6 Gray Ethernet Crossover Cable.jpg', '100FT 100 FT RJ45 CAT6 CAT 6 HIGH SPEED ETHERNET LAN ....jpg', '14 foot Cat6 Red Ethernet Patch Cable, Bootless.jpg', 'Cable Matters 5-Pack Cat6 RJ45 Ethernet Patch Cord Network ....jpg', '4K UHD HDMI High Speed with Ethernet Cable, 6ft.jpg', '1000ft Cat6 Outdoor Direct Burial CMX Ethernet Cable, Spool.jpg', 'ethernet_1569099654029_8.jpg', 'Cat5e Cat6 Ethernet Internet LAN Network Cable Modem ....jpg', 'Cat6 Yellow Ethernet Patch Cable, Bootless, 100 foot.jpg', 'ethernet_1569099654030_17.jpg', 'CAT5E Patch Cable Blue 350MHz RJ45 ΓÇô 5 FT.jpg', 'Wholesale 20cm RJ45 CAT5 Ethernet Cable Male To Male Patch ....jpg', '7ft Cat6a Black Ethernet Patch Cable, 10 Gb, Molded Boot.jpg', 'ethernet_1569099654031_22.jpg', 'ethernet_1569099654028_3.jpg', 'CableMod ModFlexΓäó Cat 6 Ethernet Cable ΓÇô CableMod Global Store.jpg', 'ethernet_1569099654030_20.jpg', '50Ft CAT5 CAT5E RJ45 Ethernet LAN Network Cable + USB TO ....jpg', 'Monoprice Cat6A Ethernet Patch Cable - Snagless RJ45 ....jpg', 'ethernet_1569099654027_2.jpg', 'CAT5E 1000FT UTP SOLID LAN NETWORK ETHERNET CABLE RJ45 ....jpg', 'ethernet_1569099654031_24.jpg', 'ethernet_1569099654029_11.jpg', 'ORICO Cat7 Ethernet Cable RJ45 Cat 7 Flat Network Lan ....jpg', '1pcs RJ45 CAT6 8P8C Flat Ethernet Patch Network Lan Cable ....jpg', '100 foot Cat6 Purple Ethernet Patch Cable.jpg', 'Monoprice Cat5e Ethernet Patch Cable - Snagless RJ45 ....jpg', '100ft Cat6 Blue Ethernet Patch Cable, Bootless.jpg', '1000 FT CAT6 ETHERNET LAN CABLE 1Gbps CAT-6 WIRE 1000_ UTP ....jpg', 'Cat6 Ethernet Patch Cable Network Internet Cord RJ45 ....jpg', '7M 20FT CAT 7 SSTP LAN Direct Ethernet Network Cable Patch ....jpg', 'ethernet_1569099654030_21.jpg', '1.5ft Molded Boot Cat5e Yellow Ethernet Patch Cable.jpg', 'CableMod ModMeshΓäó Cat 6 Ethernet Cable ΓÇô 1m ΓÇô LIGHT BLUE ....jpg', 'Blue CAT 5E RJ45 CCA Ethernet LAN network cable cord - 50 ft.jpg', 'Shop New Mediabridge Ethernet Cable - Supports Cat6 ....jpg', 'ethernet_1569099654027_1.jpg', 'Yellow CAT 5E RJ45 CCA Ethernet LAN network cable cord - 50 ft.jpg', '100 FT Cat5 RJ45 Ethernet LAN Network Cable for PC Xbox PS ....jpg', '5M Network Cat5e ETHERNET Cable RJ45 LAN Internet High ....jpg', '350Mhz Black Cat5e Ethernet Network Patch Cable, 568B wire ....jpg', 'RJ45 Cat6 Network Cable Ethernet Snagless LAN UTP LSOH ....jpg', 'ethernet_1569099654031_29.jpg', '500 MHz Cat6 LAN Network UTP Ethernet Cable Gray Cord - 50 ....jpg', 'Apple Airplay Multi-Room Setup 6 Zones Airport Express.jpg', 'FTP Flat Cat6 Cat6e Ethernet Lan Network Cable RJ45 to ....jpg', 'Cat5e Ethernet Lan Splitter VV Cable Economiser Voice ....jpg', 'Ethernet Crossover Cables Explained.jpg', '20ft Cat6 Black Ethernet Patch Cable, Bootless.jpg', 'GearIt 0.5 Feet Cat 6 Ethernet Cable Cat6 Snagless Patch ....jpg', 'ethernet_1569099654033_47.jpg', 'NEW 100FT 100 FT ETHERNET NETWORK BLUE CAT5 CAT5E CABLE US ....jpg', 'Cables To Go High Speed HDMI Cable with Ethernet 1 5 ft ....jpg', '25m RJ45 Ethernet Cat5e Network Cable LAN UTP Patch Lead ....jpg', 'How to Make an Ethernet Network Cable Cat5e Cat6.jpg', 'Cat6 Ethernet Cable (Black) - AdamLouis.jpg', 'Snagless 2ft Cat5e Blue Ethernet Patch Cable.jpg', 'ethernet_1569099654033_46.jpg', 'Loosafe 1m3feetCat.5e Network Cable Utp Patch Cable Cat5e ....jpg', 'ethernet_1569099654032_31.jpg', 'ethernet_1569099654032_33.jpg', '1ft Cat5e Blue Ethernet Patch Cable, Bootless.jpg', 'Monoprice Cat6 Ethernet Patch Cable - Snagless RJ45 ....jpg', 'ethernet_1569099654033_48.jpg', '2ft Cat6 Yellow Ethernet Patch Cable, Bootless.jpg', 'Monoprice 50FT 24AWG Cat6A 500MHz STP Bare Copper Ethernet ....jpg', '50Ft CAT5 RJ45 Male Connector Ethernet LAN Network Patch ....jpg', 'Buy Category 5e (CAT5E) Patch Cables online from cables.com.jpg', '75FT 75 FT RJ45 CAT5 CAT 5E CAT5E Ethernet LAN Network ....jpg', '3ft Cat5e Gray Ethernet Patch Cable.jpg', 'ethernet_1569099654032_34.jpg', 'ethernet_1569099654032_36.jpg', '15ft Cat6a Green Ethernet Patch Cable, 10 Gb, Molded Boot.jpg', 'CAT5E OUTDOOR 1000FT UTP CABLE ETHERNET LAN NETWORK CAT5 ....jpg', '2016 Brand New Ethernet Network Cable 65FT RJ45 For CAT5E ....jpg', 'Green Cat5 e Power-Over-Ethernet Patch Cable 350MHz RJ45 ....jpg', 'Cat6 SFTP 0.5m Ethernet Cable - ESD Shielded RJ45.jpg', 'ethernet_1569099654028_7.jpg', 'ethernet_1569099654031_26.jpg', 'Black LAN CAT6 Backward Compatible LAN Ethernet Cable 500 ....jpg', 'How to Wire a Cat6 RJ45 Ethernet Jack - HandymanHowto.com.jpg', '8 Monitors Stock Trading Computer - July 2018 - The World ....jpg', 'ethernet_1569099654028_4.jpg', 'CARPRIE E5 Ethernet Cable Lan Cables 2017 Blue Ethernet ....jpg', 'Green LAN CAT6 Backward Compatible LAN Ethernet Cable 500 ....jpg', 'CAT6 Network Cable RCM Certified Ethernet LAN Data Patch ....jpg', '5m ETHERNET EXTENSION CABLE RJ45 CAT5E CAT5 MALE to FEMALE ....jpg', 'RJ45 Ethernet Network Cable Cat6 Lead FULL COPPER LAN UTP ....jpg', 'New 0.5m 1m 1.5m,2m 3m,5m 10m15m 20m lan cable CAT7 cable ....jpg', 'Learn About Inline Couplers For Phone And Ethernet Cables.jpg', 'Cat 6 UTP LAN Yellow Network Cable with stranded 568 B ....jpg', 'Ethernet Cables and How They Work.jpg', 'ethernet_1569099654031_27.jpg', 'ethernet_1569099654032_39.jpg', 'ethernet_1569099654030_19.jpg', 'RJ-45 24AWG Cat5 Cat-5e UTP Gigabit Ethernet Lan Network ....jpg', 'ethernet_1569099654030_18.jpg', '100ft Shielded Cat6a Gray Ethernet Patch Cable, 10 Gbit.jpg', '25ft ft Blue Ethernet Internet LAN CAT5e Network Cable for ....jpg', '1ft Cat5e Blue Shielded Ethernet Patch Cable.jpg', '2m 6FT CAT5 cat 5 RJ45 M to M Ethernet Network CAT5E Gold ....jpg', '1ft Flat Cat6 Black Ethernet Patch Cable.jpg', 'Ethernet physical layer - Wikipedia.jpg', '1.5m 5_Foot Cat5e Cat 5e RJ45 RJ-45 Network Ethernet Patch ....jpg', 'ethernet_1569099654032_30.jpg', 'ethernet_1569099654033_44.jpg', 'ethernet_1569099654031_28.jpg', '50FT 50 FT RJ45 CAT5 CAT5E Ethernet LAN Network Cable ....jpg', 'ethernet_1569099654029_16.jpg', 'ethernet_1569099654029_9.jpg', 'NEW 6FT-100FT Cat 7 Cat 6 Cat 5e Snagless Ethernet Patch ....jpg', '50ft Flat Cat5e Black Ethernet Patch Cable.jpg', '350Mhz Gray Cat5e Ethernet Network Patch Cable, 568B wire ....jpg', '100ft Cat6 Red Ethernet Patch Cable, Bootless.jpg', 'ethernet_1569099654033_43.jpg', '50FT 50_ FT RJ45 CAT6 CAT 6 PATCH ETHERNET LAN NETWORK ....jpg', '6-inch Cat6 Snagless Shielded (STP) Ethernet Cable - White ....jpg', '0.5m 50cm FLAT Network Ethernet Cat5e Patch Cable Fly Lead ....jpg', 'ethernet_1569099654032_32.jpg', 'Blue UTP Cat 6 Ethernet LAN Cable Cord 500MHz - 7 FT.jpg', 'ANNNWZZD Cat6 RJ45 Ethernet Cable Gigabit High Speed Cat 6 ....jpg', 'ethernet_1569099654033_40.jpg', 'ethernet_1569099654029_12.jpg', 'cat6, cat6 cable, cat6 cables, UTP cable, ethernet cable ....jpg', '15M 50FT RJ45 CAT5 CAT5E Ethernet LAN Network Cable + Plug ....jpg', 'White LAN CAT6 Backward Compatible LAN Ethernet Cable 500 ....jpg', 'ethernet_1569099654022_0.jpg', 'Category 6 cable - Wikipedia.jpg', 'ethernet_1569099654032_38.jpg', '75ft Cat5 Patch Cord Cable 500mhz Ethernet Internet ....jpg', 'ethernet_1569099654032_35.jpg', 'Link Depot 50_ Ethernet Enhanced CAT6 Networking Cable ....jpg', 'ethernet_1569099654031_23.jpg', 'New 25Ft Ethernet LAN Network Patch Cable CAT5 CAT5E RJ45 ....jpg', 'ethernet_1569099654031_25.jpg', 'ethernet_1569099654033_41.jpg', 'CAT6 RJ45 Ethernet Network Patch Lead Cable Cat 6 0.25m to ....jpg', '6ft Flat Cat6 Black Ethernet Patch Cable.jpg', 'ethernet_1569099654029_10.jpg', 'Best Ethernet Cable of 2016.jpg', 'ethernet_1569099654029_14.jpg', 'UTP CAT5e cable RJ45 network cable Ethernet cable copper ....jpg', '25Ft CAT5E RJ45 CAT5 Ethernet LAN Network Patch Cable ....jpg', 'ethernet_1569099654028_6.jpg']\n"
          ],
          "name": "stdout"
        }
      ]
    },
    {
      "cell_type": "code",
      "metadata": {
        "id": "DQP4W89Wn13v",
        "colab_type": "code",
        "outputId": "8d9dca8b-dc51-439c-a185-172acd3827b9",
        "colab": {
          "base_uri": "https://localhost:8080/",
          "height": 34
        }
      },
      "source": [
        "# for filename in os.listdir('/root/.keras/datasets/km/{}'.format(etest)):\n",
        "#   print(filename)\n",
        "\n",
        "import shutil\n",
        "\n",
        "# print(os.listdir('/root/.keras/datasets/km/'))\n",
        "shutil.rmtree('/root/.keras/datasets/km/__MACOSX')\n",
        "# shutil.rmtree('/root/.keras/datasets/km/ethernet')\n",
        "print(os.listdir('/root/.keras/datasets/km/'))\n"
      ],
      "execution_count": 12,
      "outputs": [
        {
          "output_type": "stream",
          "text": [
            "['coax', 'ethernet_cable']\n"
          ],
          "name": "stdout"
        }
      ]
    },
    {
      "cell_type": "code",
      "metadata": {
        "id": "vicVBBSpzf3G",
        "colab_type": "code",
        "outputId": "b2f9d2e1-73a4-4ed1-9cee-2e4712064080",
        "colab": {
          "base_uri": "https://localhost:8080/",
          "height": 68
        }
      },
      "source": [
        "datagen_kwargs = dict(rescale=1./255, validation_split=.20)\n",
        "dataflow_kwargs = dict(target_size=IMAGE_SIZE, batch_size=BATCH_SIZE,\n",
        "                   interpolation=\"bilinear\")\n",
        "\n",
        "print(os.listdir('/root/.keras/datasets/km/'))\n",
        "data_dir = '/root/.keras/datasets/km/'\n",
        "\n",
        "valid_datagen = tf.keras.preprocessing.image.ImageDataGenerator(\n",
        "    **datagen_kwargs)\n",
        "valid_generator = valid_datagen.flow_from_directory(\n",
        "    data_dir, subset=\"validation\", shuffle=False, **dataflow_kwargs)\n",
        "\n",
        "do_data_augmentation = True #@param {type:\"boolean\"}\n",
        "if do_data_augmentation:\n",
        "  train_datagen = tf.keras.preprocessing.image.ImageDataGenerator(\n",
        "      rotation_range=40,\n",
        "      horizontal_flip=True,\n",
        "      width_shift_range=0.2, height_shift_range=0.2,\n",
        "      shear_range=0.2, zoom_range=0.2,\n",
        "      **datagen_kwargs)\n",
        "else:\n",
        "  train_datagen = valid_datagen\n",
        "train_generator = train_datagen.flow_from_directory(\n",
        "    data_dir, subset=\"training\", shuffle=True, **dataflow_kwargs)"
      ],
      "execution_count": 13,
      "outputs": [
        {
          "output_type": "stream",
          "text": [
            "['coax', 'ethernet_cable']\n",
            "Found 62 images belonging to 2 classes.\n",
            "Found 248 images belonging to 2 classes.\n"
          ],
          "name": "stdout"
        }
      ]
    },
    {
      "cell_type": "code",
      "metadata": {
        "id": "siiLzn_lxc99",
        "colab_type": "code",
        "colab": {}
      },
      "source": [
        "do_fine_tuning = True #@param {type:\"boolean\"}"
      ],
      "execution_count": 0,
      "outputs": []
    },
    {
      "cell_type": "code",
      "metadata": {
        "id": "nGQCCtJPylFe",
        "colab_type": "code",
        "outputId": "ef5625da-3e33-47be-91f3-aba8ff749cf2",
        "colab": {
          "base_uri": "https://localhost:8080/",
          "height": 343
        }
      },
      "source": [
        "print(\"Building model with\", MODULE_HANDLE)\n",
        "model = tf.keras.Sequential([\n",
        "    hub.KerasLayer(MODULE_HANDLE, trainable=do_fine_tuning),\n",
        "    tf.keras.layers.Dropout(rate=0.2),\n",
        "    tf.keras.layers.Dense(train_generator.num_classes, activation='softmax',\n",
        "                          kernel_regularizer=tf.keras.regularizers.l2(0.0001))\n",
        "])\n",
        "model.build((None,)+IMAGE_SIZE+(3,))\n",
        "model.summary()"
      ],
      "execution_count": 15,
      "outputs": [
        {
          "output_type": "stream",
          "text": [
            "Building model with https://tfhub.dev/google/tf2-preview/mobilenet_v2/feature_vector/4\n",
            "WARNING:tensorflow:Entity <bound method KerasLayer.call of <tensorflow_hub.keras_layer.KerasLayer object at 0x7fc2536911d0>> could not be transformed and will be executed as-is. Please report this to the AutoGraph team. When filing the bug, set the verbosity to 10 (on Linux, `export AUTOGRAPH_VERBOSITY=10`) and attach the full output. Cause: module 'gast' has no attribute 'Num'\n"
          ],
          "name": "stdout"
        },
        {
          "output_type": "stream",
          "text": [
            "WARNING:tensorflow:Entity <bound method KerasLayer.call of <tensorflow_hub.keras_layer.KerasLayer object at 0x7fc2536911d0>> could not be transformed and will be executed as-is. Please report this to the AutoGraph team. When filing the bug, set the verbosity to 10 (on Linux, `export AUTOGRAPH_VERBOSITY=10`) and attach the full output. Cause: module 'gast' has no attribute 'Num'\n"
          ],
          "name": "stderr"
        },
        {
          "output_type": "stream",
          "text": [
            "WARNING: Entity <bound method KerasLayer.call of <tensorflow_hub.keras_layer.KerasLayer object at 0x7fc2536911d0>> could not be transformed and will be executed as-is. Please report this to the AutoGraph team. When filing the bug, set the verbosity to 10 (on Linux, `export AUTOGRAPH_VERBOSITY=10`) and attach the full output. Cause: module 'gast' has no attribute 'Num'\n",
            "Model: \"sequential\"\n",
            "_________________________________________________________________\n",
            "Layer (type)                 Output Shape              Param #   \n",
            "=================================================================\n",
            "keras_layer (KerasLayer)     multiple                  2257984   \n",
            "_________________________________________________________________\n",
            "dropout (Dropout)            multiple                  0         \n",
            "_________________________________________________________________\n",
            "dense (Dense)                multiple                  2562      \n",
            "=================================================================\n",
            "Total params: 2,260,546\n",
            "Trainable params: 2,226,434\n",
            "Non-trainable params: 34,112\n",
            "_________________________________________________________________\n"
          ],
          "name": "stdout"
        }
      ]
    },
    {
      "cell_type": "code",
      "metadata": {
        "id": "RfMpGmjmyp4x",
        "colab_type": "code",
        "colab": {}
      },
      "source": [
        "model.compile(\n",
        "  optimizer=tf.keras.optimizers.SGD(lr=0.005, momentum=0.9), \n",
        "  loss=tf.keras.losses.CategoricalCrossentropy(label_smoothing=0.1),\n",
        "  metrics=['accuracy'])"
      ],
      "execution_count": 0,
      "outputs": []
    },
    {
      "cell_type": "code",
      "metadata": {
        "id": "lWF_SBtQX9eJ",
        "colab_type": "code",
        "outputId": "65dc1a0f-a0ad-4738-d979-cba3d0f76b62",
        "colab": {
          "base_uri": "https://localhost:8080/",
          "height": 411
        }
      },
      "source": [
        "print(train_generator.samples, valid_generator.samples)\n",
        "steps_per_epoch = train_generator.samples // train_generator.batch_size\n",
        "validation_steps = valid_generator.samples // valid_generator.batch_size\n",
        "\n",
        "from PIL import ImageFile\n",
        "ImageFile.LOAD_TRUNCATED_IMAGES = True\n",
        "hist = model.fit_generator(\n",
        "    train_generator,\n",
        "    epochs=5, steps_per_epoch=steps_per_epoch,\n",
        "    validation_data=valid_generator,\n",
        "    validation_steps=validation_steps).history\n"
      ],
      "execution_count": 17,
      "outputs": [
        {
          "output_type": "stream",
          "text": [
            "248 62\n",
            "Epoch 1/5\n",
            "WARNING:tensorflow:Entity <bound method KerasLayer.call of <tensorflow_hub.keras_layer.KerasLayer object at 0x7fc2536911d0>> could not be transformed and will be executed as-is. Please report this to the AutoGraph team. When filing the bug, set the verbosity to 10 (on Linux, `export AUTOGRAPH_VERBOSITY=10`) and attach the full output. Cause: module 'gast' has no attribute 'Num'\n"
          ],
          "name": "stdout"
        },
        {
          "output_type": "stream",
          "text": [
            "WARNING:tensorflow:Entity <bound method KerasLayer.call of <tensorflow_hub.keras_layer.KerasLayer object at 0x7fc2536911d0>> could not be transformed and will be executed as-is. Please report this to the AutoGraph team. When filing the bug, set the verbosity to 10 (on Linux, `export AUTOGRAPH_VERBOSITY=10`) and attach the full output. Cause: module 'gast' has no attribute 'Num'\n"
          ],
          "name": "stderr"
        },
        {
          "output_type": "stream",
          "text": [
            "WARNING: Entity <bound method KerasLayer.call of <tensorflow_hub.keras_layer.KerasLayer object at 0x7fc2536911d0>> could not be transformed and will be executed as-is. Please report this to the AutoGraph team. When filing the bug, set the verbosity to 10 (on Linux, `export AUTOGRAPH_VERBOSITY=10`) and attach the full output. Cause: module 'gast' has no attribute 'Num'\n",
            "WARNING:tensorflow:From /tensorflow-2.0.0-rc1/python3.6/tensorflow_core/python/ops/math_grad.py:1394: where (from tensorflow.python.ops.array_ops) is deprecated and will be removed in a future version.\n",
            "Instructions for updating:\n",
            "Use tf.where in 2.0, which has the same broadcast rule as np.where\n"
          ],
          "name": "stdout"
        },
        {
          "output_type": "stream",
          "text": [
            "WARNING:tensorflow:From /tensorflow-2.0.0-rc1/python3.6/tensorflow_core/python/ops/math_grad.py:1394: where (from tensorflow.python.ops.array_ops) is deprecated and will be removed in a future version.\n",
            "Instructions for updating:\n",
            "Use tf.where in 2.0, which has the same broadcast rule as np.where\n"
          ],
          "name": "stderr"
        },
        {
          "output_type": "stream",
          "text": [
            "6/7 [========================>.....] - ETA: 11s - loss: 0.7814 - accuracy: 0.6091WARNING:tensorflow:5 out of the last 11 calls to <function recreate_function.<locals>.restored_function_body at 0x7fc250c0e620> triggered tf.function retracing. Tracing is expensive and the excessive number of tracings is likely due to passing python objects instead of tensors. Also, tf.function has experimental_relax_shapes=True option that relaxes argument shapes that can avoid unnecessary retracing. Please refer to https://www.tensorflow.org/beta/tutorials/eager/tf_function#python_or_tensor_args and https://www.tensorflow.org/api_docs/python/tf/function for more details.\n"
          ],
          "name": "stdout"
        },
        {
          "output_type": "stream",
          "text": [
            "WARNING:tensorflow:5 out of the last 11 calls to <function recreate_function.<locals>.restored_function_body at 0x7fc250c0e620> triggered tf.function retracing. Tracing is expensive and the excessive number of tracings is likely due to passing python objects instead of tensors. Also, tf.function has experimental_relax_shapes=True option that relaxes argument shapes that can avoid unnecessary retracing. Please refer to https://www.tensorflow.org/beta/tutorials/eager/tf_function#python_or_tensor_args and https://www.tensorflow.org/api_docs/python/tf/function for more details.\n"
          ],
          "name": "stderr"
        },
        {
          "output_type": "stream",
          "text": [
            "\b\b\b\b\b\b\b\b\b\b\b\b\b\b\b\b\b\b\b\b\b\b\b\b\b\b\b\b\b\b\b\b\b\b\b\b\b\b\b\b\b\b\b\b\b\b\b\b\b\b\b\b\b\b\b\b\b\b\b\b\b\b\b\b\b\b\b\b\b\b\b\b\b\b\b\b\b\b\b\b\b\r7/7 [==============================] - 84s 12s/step - loss: 0.7683 - accuracy: 0.6293 - val_loss: 0.6415 - val_accuracy: 0.7188\n",
            "Epoch 2/5\n",
            "7/7 [==============================] - 77s 11s/step - loss: 0.4905 - accuracy: 0.8939 - val_loss: 0.4233 - val_accuracy: 0.9375\n",
            "Epoch 3/5\n",
            "7/7 [==============================] - 72s 10s/step - loss: 0.4395 - accuracy: 0.9418 - val_loss: 0.3898 - val_accuracy: 0.9688\n",
            "Epoch 4/5\n",
            "7/7 [==============================] - 75s 11s/step - loss: 0.4148 - accuracy: 0.9448 - val_loss: 0.5421 - val_accuracy: 0.8438\n",
            "Epoch 5/5\n",
            "7/7 [==============================] - 77s 11s/step - loss: 0.3994 - accuracy: 0.9419 - val_loss: 0.5468 - val_accuracy: 0.8750\n"
          ],
          "name": "stdout"
        }
      ]
    },
    {
      "cell_type": "code",
      "metadata": {
        "id": "w6hy0UWbhJ7L",
        "colab_type": "code",
        "outputId": "c228fefc-e3f7-43a1-9ce4-2cc59eb6f7b1",
        "colab": {
          "base_uri": "https://localhost:8080/",
          "height": 785
        }
      },
      "source": [
        "saved_model_path = \"/tmp/saved_flowers_model\"\n",
        "tf.saved_model.save(model, saved_model_path)\n",
        "\n",
        "converter = tf.lite.TFLiteConverter.from_saved_model(saved_model_path)\n",
        "tflite_model = converter.convert()\n",
        "\n",
        "with open('/tmp/model.tflite', 'wb') as f:\n",
        "  f.write(tflite_model)"
      ],
      "execution_count": 23,
      "outputs": [
        {
          "output_type": "stream",
          "text": [
            "WARNING:tensorflow:Entity <function Function._initialize_uninitialized_variables.<locals>.initialize_variables at 0x7fc229f4bb70> could not be transformed and will be executed as-is. Please report this to the AutoGraph team. When filing the bug, set the verbosity to 10 (on Linux, `export AUTOGRAPH_VERBOSITY=10`) and attach the full output. Cause: module 'gast' has no attribute 'Num'\n"
          ],
          "name": "stdout"
        },
        {
          "output_type": "stream",
          "text": [
            "WARNING:tensorflow:Entity <function Function._initialize_uninitialized_variables.<locals>.initialize_variables at 0x7fc229f4bb70> could not be transformed and will be executed as-is. Please report this to the AutoGraph team. When filing the bug, set the verbosity to 10 (on Linux, `export AUTOGRAPH_VERBOSITY=10`) and attach the full output. Cause: module 'gast' has no attribute 'Num'\n"
          ],
          "name": "stderr"
        },
        {
          "output_type": "stream",
          "text": [
            "WARNING: Entity <function Function._initialize_uninitialized_variables.<locals>.initialize_variables at 0x7fc229f4bb70> could not be transformed and will be executed as-is. Please report this to the AutoGraph team. When filing the bug, set the verbosity to 10 (on Linux, `export AUTOGRAPH_VERBOSITY=10`) and attach the full output. Cause: module 'gast' has no attribute 'Num'\n",
            "WARNING:tensorflow:Entity <function Function._initialize_uninitialized_variables.<locals>.initialize_variables at 0x7fc2319ce840> could not be transformed and will be executed as-is. Please report this to the AutoGraph team. When filing the bug, set the verbosity to 10 (on Linux, `export AUTOGRAPH_VERBOSITY=10`) and attach the full output. Cause: module 'gast' has no attribute 'Num'\n"
          ],
          "name": "stdout"
        },
        {
          "output_type": "stream",
          "text": [
            "WARNING:tensorflow:Entity <function Function._initialize_uninitialized_variables.<locals>.initialize_variables at 0x7fc2319ce840> could not be transformed and will be executed as-is. Please report this to the AutoGraph team. When filing the bug, set the verbosity to 10 (on Linux, `export AUTOGRAPH_VERBOSITY=10`) and attach the full output. Cause: module 'gast' has no attribute 'Num'\n"
          ],
          "name": "stderr"
        },
        {
          "output_type": "stream",
          "text": [
            "WARNING: Entity <function Function._initialize_uninitialized_variables.<locals>.initialize_variables at 0x7fc2319ce840> could not be transformed and will be executed as-is. Please report this to the AutoGraph team. When filing the bug, set the verbosity to 10 (on Linux, `export AUTOGRAPH_VERBOSITY=10`) and attach the full output. Cause: module 'gast' has no attribute 'Num'\n",
            "WARNING:tensorflow:Entity <function Function._initialize_uninitialized_variables.<locals>.initialize_variables at 0x7fc23193b620> could not be transformed and will be executed as-is. Please report this to the AutoGraph team. When filing the bug, set the verbosity to 10 (on Linux, `export AUTOGRAPH_VERBOSITY=10`) and attach the full output. Cause: module 'gast' has no attribute 'Num'\n"
          ],
          "name": "stdout"
        },
        {
          "output_type": "stream",
          "text": [
            "WARNING:tensorflow:Entity <function Function._initialize_uninitialized_variables.<locals>.initialize_variables at 0x7fc23193b620> could not be transformed and will be executed as-is. Please report this to the AutoGraph team. When filing the bug, set the verbosity to 10 (on Linux, `export AUTOGRAPH_VERBOSITY=10`) and attach the full output. Cause: module 'gast' has no attribute 'Num'\n"
          ],
          "name": "stderr"
        },
        {
          "output_type": "stream",
          "text": [
            "WARNING: Entity <function Function._initialize_uninitialized_variables.<locals>.initialize_variables at 0x7fc23193b620> could not be transformed and will be executed as-is. Please report this to the AutoGraph team. When filing the bug, set the verbosity to 10 (on Linux, `export AUTOGRAPH_VERBOSITY=10`) and attach the full output. Cause: module 'gast' has no attribute 'Num'\n",
            "WARNING:tensorflow:Entity <function Function._initialize_uninitialized_variables.<locals>.initialize_variables at 0x7fc22c201378> could not be transformed and will be executed as-is. Please report this to the AutoGraph team. When filing the bug, set the verbosity to 10 (on Linux, `export AUTOGRAPH_VERBOSITY=10`) and attach the full output. Cause: module 'gast' has no attribute 'Num'\n"
          ],
          "name": "stdout"
        },
        {
          "output_type": "stream",
          "text": [
            "WARNING:tensorflow:Entity <function Function._initialize_uninitialized_variables.<locals>.initialize_variables at 0x7fc22c201378> could not be transformed and will be executed as-is. Please report this to the AutoGraph team. When filing the bug, set the verbosity to 10 (on Linux, `export AUTOGRAPH_VERBOSITY=10`) and attach the full output. Cause: module 'gast' has no attribute 'Num'\n"
          ],
          "name": "stderr"
        },
        {
          "output_type": "stream",
          "text": [
            "WARNING: Entity <function Function._initialize_uninitialized_variables.<locals>.initialize_variables at 0x7fc22c201378> could not be transformed and will be executed as-is. Please report this to the AutoGraph team. When filing the bug, set the verbosity to 10 (on Linux, `export AUTOGRAPH_VERBOSITY=10`) and attach the full output. Cause: module 'gast' has no attribute 'Num'\n",
            "WARNING:tensorflow:Entity <function Function._initialize_uninitialized_variables.<locals>.initialize_variables at 0x7fc231965620> could not be transformed and will be executed as-is. Please report this to the AutoGraph team. When filing the bug, set the verbosity to 10 (on Linux, `export AUTOGRAPH_VERBOSITY=10`) and attach the full output. Cause: module 'gast' has no attribute 'Num'\n"
          ],
          "name": "stdout"
        },
        {
          "output_type": "stream",
          "text": [
            "WARNING:tensorflow:Entity <function Function._initialize_uninitialized_variables.<locals>.initialize_variables at 0x7fc231965620> could not be transformed and will be executed as-is. Please report this to the AutoGraph team. When filing the bug, set the verbosity to 10 (on Linux, `export AUTOGRAPH_VERBOSITY=10`) and attach the full output. Cause: module 'gast' has no attribute 'Num'\n"
          ],
          "name": "stderr"
        },
        {
          "output_type": "stream",
          "text": [
            "WARNING: Entity <function Function._initialize_uninitialized_variables.<locals>.initialize_variables at 0x7fc231965620> could not be transformed and will be executed as-is. Please report this to the AutoGraph team. When filing the bug, set the verbosity to 10 (on Linux, `export AUTOGRAPH_VERBOSITY=10`) and attach the full output. Cause: module 'gast' has no attribute 'Num'\n",
            "WARNING:tensorflow:Entity <function Function._initialize_uninitialized_variables.<locals>.initialize_variables at 0x7fc23195dc80> could not be transformed and will be executed as-is. Please report this to the AutoGraph team. When filing the bug, set the verbosity to 10 (on Linux, `export AUTOGRAPH_VERBOSITY=10`) and attach the full output. Cause: module 'gast' has no attribute 'Num'\n"
          ],
          "name": "stdout"
        },
        {
          "output_type": "stream",
          "text": [
            "WARNING:tensorflow:Entity <function Function._initialize_uninitialized_variables.<locals>.initialize_variables at 0x7fc23195dc80> could not be transformed and will be executed as-is. Please report this to the AutoGraph team. When filing the bug, set the verbosity to 10 (on Linux, `export AUTOGRAPH_VERBOSITY=10`) and attach the full output. Cause: module 'gast' has no attribute 'Num'\n"
          ],
          "name": "stderr"
        },
        {
          "output_type": "stream",
          "text": [
            "WARNING: Entity <function Function._initialize_uninitialized_variables.<locals>.initialize_variables at 0x7fc23195dc80> could not be transformed and will be executed as-is. Please report this to the AutoGraph team. When filing the bug, set the verbosity to 10 (on Linux, `export AUTOGRAPH_VERBOSITY=10`) and attach the full output. Cause: module 'gast' has no attribute 'Num'\n",
            "WARNING:tensorflow:Entity <function Function._initialize_uninitialized_variables.<locals>.initialize_variables at 0x7fc23211f6a8> could not be transformed and will be executed as-is. Please report this to the AutoGraph team. When filing the bug, set the verbosity to 10 (on Linux, `export AUTOGRAPH_VERBOSITY=10`) and attach the full output. Cause: module 'gast' has no attribute 'Num'\n"
          ],
          "name": "stdout"
        },
        {
          "output_type": "stream",
          "text": [
            "WARNING:tensorflow:Entity <function Function._initialize_uninitialized_variables.<locals>.initialize_variables at 0x7fc23211f6a8> could not be transformed and will be executed as-is. Please report this to the AutoGraph team. When filing the bug, set the verbosity to 10 (on Linux, `export AUTOGRAPH_VERBOSITY=10`) and attach the full output. Cause: module 'gast' has no attribute 'Num'\n"
          ],
          "name": "stderr"
        },
        {
          "output_type": "stream",
          "text": [
            "WARNING: Entity <function Function._initialize_uninitialized_variables.<locals>.initialize_variables at 0x7fc23211f6a8> could not be transformed and will be executed as-is. Please report this to the AutoGraph team. When filing the bug, set the verbosity to 10 (on Linux, `export AUTOGRAPH_VERBOSITY=10`) and attach the full output. Cause: module 'gast' has no attribute 'Num'\n",
            "WARNING:tensorflow:Entity <function Function._initialize_uninitialized_variables.<locals>.initialize_variables at 0x7fc231a83488> could not be transformed and will be executed as-is. Please report this to the AutoGraph team. When filing the bug, set the verbosity to 10 (on Linux, `export AUTOGRAPH_VERBOSITY=10`) and attach the full output. Cause: module 'gast' has no attribute 'Num'\n"
          ],
          "name": "stdout"
        },
        {
          "output_type": "stream",
          "text": [
            "WARNING:tensorflow:Entity <function Function._initialize_uninitialized_variables.<locals>.initialize_variables at 0x7fc231a83488> could not be transformed and will be executed as-is. Please report this to the AutoGraph team. When filing the bug, set the verbosity to 10 (on Linux, `export AUTOGRAPH_VERBOSITY=10`) and attach the full output. Cause: module 'gast' has no attribute 'Num'\n"
          ],
          "name": "stderr"
        },
        {
          "output_type": "stream",
          "text": [
            "WARNING: Entity <function Function._initialize_uninitialized_variables.<locals>.initialize_variables at 0x7fc231a83488> could not be transformed and will be executed as-is. Please report this to the AutoGraph team. When filing the bug, set the verbosity to 10 (on Linux, `export AUTOGRAPH_VERBOSITY=10`) and attach the full output. Cause: module 'gast' has no attribute 'Num'\n",
            "WARNING:tensorflow:Entity <function Function._initialize_uninitialized_variables.<locals>.initialize_variables at 0x7fc23432ea60> could not be transformed and will be executed as-is. Please report this to the AutoGraph team. When filing the bug, set the verbosity to 10 (on Linux, `export AUTOGRAPH_VERBOSITY=10`) and attach the full output. Cause: module 'gast' has no attribute 'Num'\n"
          ],
          "name": "stdout"
        },
        {
          "output_type": "stream",
          "text": [
            "WARNING:tensorflow:Entity <function Function._initialize_uninitialized_variables.<locals>.initialize_variables at 0x7fc23432ea60> could not be transformed and will be executed as-is. Please report this to the AutoGraph team. When filing the bug, set the verbosity to 10 (on Linux, `export AUTOGRAPH_VERBOSITY=10`) and attach the full output. Cause: module 'gast' has no attribute 'Num'\n"
          ],
          "name": "stderr"
        },
        {
          "output_type": "stream",
          "text": [
            "WARNING: Entity <function Function._initialize_uninitialized_variables.<locals>.initialize_variables at 0x7fc23432ea60> could not be transformed and will be executed as-is. Please report this to the AutoGraph team. When filing the bug, set the verbosity to 10 (on Linux, `export AUTOGRAPH_VERBOSITY=10`) and attach the full output. Cause: module 'gast' has no attribute 'Num'\n",
            "WARNING:tensorflow:Entity <function canonicalize_signatures.<locals>.signature_wrapper at 0x7fc2281221e0> could not be transformed and will be executed as-is. Please report this to the AutoGraph team. When filing the bug, set the verbosity to 10 (on Linux, `export AUTOGRAPH_VERBOSITY=10`) and attach the full output. Cause: Bad argument number for Name: 3, expecting 4\n"
          ],
          "name": "stdout"
        },
        {
          "output_type": "stream",
          "text": [
            "WARNING:tensorflow:Entity <function canonicalize_signatures.<locals>.signature_wrapper at 0x7fc2281221e0> could not be transformed and will be executed as-is. Please report this to the AutoGraph team. When filing the bug, set the verbosity to 10 (on Linux, `export AUTOGRAPH_VERBOSITY=10`) and attach the full output. Cause: Bad argument number for Name: 3, expecting 4\n"
          ],
          "name": "stderr"
        },
        {
          "output_type": "stream",
          "text": [
            "WARNING: Entity <function canonicalize_signatures.<locals>.signature_wrapper at 0x7fc2281221e0> could not be transformed and will be executed as-is. Please report this to the AutoGraph team. When filing the bug, set the verbosity to 10 (on Linux, `export AUTOGRAPH_VERBOSITY=10`) and attach the full output. Cause: Bad argument number for Name: 3, expecting 4\n",
            "WARNING:tensorflow:Entity <function Function._initialize_uninitialized_variables.<locals>.initialize_variables at 0x7fc225828bf8> could not be transformed and will be executed as-is. Please report this to the AutoGraph team. When filing the bug, set the verbosity to 10 (on Linux, `export AUTOGRAPH_VERBOSITY=10`) and attach the full output. Cause: module 'gast' has no attribute 'Num'\n"
          ],
          "name": "stdout"
        },
        {
          "output_type": "stream",
          "text": [
            "WARNING:tensorflow:Entity <function Function._initialize_uninitialized_variables.<locals>.initialize_variables at 0x7fc225828bf8> could not be transformed and will be executed as-is. Please report this to the AutoGraph team. When filing the bug, set the verbosity to 10 (on Linux, `export AUTOGRAPH_VERBOSITY=10`) and attach the full output. Cause: module 'gast' has no attribute 'Num'\n"
          ],
          "name": "stderr"
        },
        {
          "output_type": "stream",
          "text": [
            "WARNING: Entity <function Function._initialize_uninitialized_variables.<locals>.initialize_variables at 0x7fc225828bf8> could not be transformed and will be executed as-is. Please report this to the AutoGraph team. When filing the bug, set the verbosity to 10 (on Linux, `export AUTOGRAPH_VERBOSITY=10`) and attach the full output. Cause: module 'gast' has no attribute 'Num'\n",
            "WARNING:tensorflow:Entity <function Function._initialize_uninitialized_variables.<locals>.initialize_variables at 0x7fc2219ac8c8> could not be transformed and will be executed as-is. Please report this to the AutoGraph team. When filing the bug, set the verbosity to 10 (on Linux, `export AUTOGRAPH_VERBOSITY=10`) and attach the full output. Cause: module 'gast' has no attribute 'Num'\n"
          ],
          "name": "stdout"
        },
        {
          "output_type": "stream",
          "text": [
            "WARNING:tensorflow:Entity <function Function._initialize_uninitialized_variables.<locals>.initialize_variables at 0x7fc2219ac8c8> could not be transformed and will be executed as-is. Please report this to the AutoGraph team. When filing the bug, set the verbosity to 10 (on Linux, `export AUTOGRAPH_VERBOSITY=10`) and attach the full output. Cause: module 'gast' has no attribute 'Num'\n"
          ],
          "name": "stderr"
        },
        {
          "output_type": "stream",
          "text": [
            "WARNING: Entity <function Function._initialize_uninitialized_variables.<locals>.initialize_variables at 0x7fc2219ac8c8> could not be transformed and will be executed as-is. Please report this to the AutoGraph team. When filing the bug, set the verbosity to 10 (on Linux, `export AUTOGRAPH_VERBOSITY=10`) and attach the full output. Cause: module 'gast' has no attribute 'Num'\n",
            "WARNING:tensorflow:Entity <function Layer._handle_weight_regularization.<locals>._loss_for_variable at 0x7fc253b48d08> could not be transformed and will be executed as-is. Please report this to the AutoGraph team. When filing the bug, set the verbosity to 10 (on Linux, `export AUTOGRAPH_VERBOSITY=10`) and attach the full output. Cause: Bad argument number for Name: 3, expecting 4\n"
          ],
          "name": "stdout"
        },
        {
          "output_type": "stream",
          "text": [
            "WARNING:tensorflow:Entity <function Layer._handle_weight_regularization.<locals>._loss_for_variable at 0x7fc253b48d08> could not be transformed and will be executed as-is. Please report this to the AutoGraph team. When filing the bug, set the verbosity to 10 (on Linux, `export AUTOGRAPH_VERBOSITY=10`) and attach the full output. Cause: Bad argument number for Name: 3, expecting 4\n"
          ],
          "name": "stderr"
        },
        {
          "output_type": "stream",
          "text": [
            "WARNING: Entity <function Layer._handle_weight_regularization.<locals>._loss_for_variable at 0x7fc253b48d08> could not be transformed and will be executed as-is. Please report this to the AutoGraph team. When filing the bug, set the verbosity to 10 (on Linux, `export AUTOGRAPH_VERBOSITY=10`) and attach the full output. Cause: Bad argument number for Name: 3, expecting 4\n",
            "WARNING:tensorflow:Entity <function Function._initialize_uninitialized_variables.<locals>.initialize_variables at 0x7fc244f5cb70> could not be transformed and will be executed as-is. Please report this to the AutoGraph team. When filing the bug, set the verbosity to 10 (on Linux, `export AUTOGRAPH_VERBOSITY=10`) and attach the full output. Cause: module 'gast' has no attribute 'Num'\n"
          ],
          "name": "stdout"
        },
        {
          "output_type": "stream",
          "text": [
            "WARNING:tensorflow:Entity <function Function._initialize_uninitialized_variables.<locals>.initialize_variables at 0x7fc244f5cb70> could not be transformed and will be executed as-is. Please report this to the AutoGraph team. When filing the bug, set the verbosity to 10 (on Linux, `export AUTOGRAPH_VERBOSITY=10`) and attach the full output. Cause: module 'gast' has no attribute 'Num'\n"
          ],
          "name": "stderr"
        },
        {
          "output_type": "stream",
          "text": [
            "WARNING: Entity <function Function._initialize_uninitialized_variables.<locals>.initialize_variables at 0x7fc244f5cb70> could not be transformed and will be executed as-is. Please report this to the AutoGraph team. When filing the bug, set the verbosity to 10 (on Linux, `export AUTOGRAPH_VERBOSITY=10`) and attach the full output. Cause: module 'gast' has no attribute 'Num'\n",
            "INFO:tensorflow:Assets written to: /tmp/saved_flowers_model/assets\n"
          ],
          "name": "stdout"
        },
        {
          "output_type": "stream",
          "text": [
            "INFO:tensorflow:Assets written to: /tmp/saved_flowers_model/assets\n"
          ],
          "name": "stderr"
        }
      ]
    },
    {
      "cell_type": "code",
      "metadata": {
        "id": "yLaFi-gYX_lf",
        "colab_type": "code",
        "outputId": "b6b9b475-2bdb-43ef-cbb8-de7cc202f47b",
        "colab": {
          "base_uri": "https://localhost:8080/",
          "height": 34
        }
      },
      "source": [
        "#@title Optimization settings\n",
        "optimize_lite_model = True  #@param {type:\"boolean\"}\n",
        "#@markdown Setting a value greater than zero enables quantization of neural network activations. A few dozen is already a useful amount.\n",
        "num_calibration_examples = 60  #@param {type:\"slider\", min:0, max:1000, step:1}\n",
        "representative_dataset = None\n",
        "if optimize_lite_model and num_calibration_examples:\n",
        "  # Use a bounded number of training examples without labels for calibration.\n",
        "  # TFLiteConverter expects a list of input tensors, each with batch size 1.\n",
        "  representative_dataset = lambda: itertools.islice(\n",
        "      ([image[None, ...]] for batch, _ in train_generator for image in batch),\n",
        "      num_calibration_examples)\n",
        "\n",
        "converter = tf.lite.TFLiteConverter.from_saved_model(saved_model_path)\n",
        "if optimize_lite_model:\n",
        "  converter.optimizations = [tf.lite.Optimize.DEFAULT]\n",
        "  if representative_dataset:  # This is optional, see above.\n",
        "    converter.representative_dataset = representative_dataset\n",
        "lite_model_content = converter.convert()\n",
        "\n",
        "with open(\"/tmp/lite_cable_model\", \"wb\") as f:\n",
        "  f.write(lite_model_content)\n",
        "print(\"Wrote %sTFLite model of %d bytes.\" %\n",
        "      (\"optimized \" if optimize_lite_model else \"\", len(lite_model_content)))"
      ],
      "execution_count": 21,
      "outputs": [
        {
          "output_type": "stream",
          "text": [
            "Wrote optimized TFLite model of 2722784 bytes.\n"
          ],
          "name": "stdout"
        }
      ]
    },
    {
      "cell_type": "code",
      "metadata": {
        "id": "uiu75UsthGFZ",
        "colab_type": "code",
        "colab": {}
      },
      "source": [
        "interpreter = tf.lite.Interpreter(model_content=lite_model_content)\n",
        "# This little helper wraps the TF Lite interpreter as a numpy-to-numpy function.\n",
        "def lite_model(images):\n",
        "  interpreter.allocate_tensors()\n",
        "  interpreter.set_tensor(interpreter.get_input_details()[0]['index'], images)\n",
        "  interpreter.invoke()\n",
        "  return interpreter.get_tensor(interpreter.get_output_details()[0]['index'])"
      ],
      "execution_count": 0,
      "outputs": []
    },
    {
      "cell_type": "code",
      "metadata": {
        "id": "EFEXtOjshe8w",
        "colab_type": "code",
        "outputId": "95da9704-dbf9-42a7-93fe-781fda2beb2e",
        "colab": {
          "base_uri": "https://localhost:8080/",
          "height": 51
        }
      },
      "source": [
        "#@markdown For rapid experimentation, start with a moderate number of examples.\n",
        "num_eval_examples = 50  #@param {type:\"slider\", min:0, max:700}\n",
        "eval_dataset = ((image, label)  # TFLite expects batch size 1.\n",
        "                for batch in train_generator\n",
        "                for (image, label) in zip(*batch))\n",
        "count = 0\n",
        "count_lite_tf_agree = 0\n",
        "count_lite_correct = 0\n",
        "for image, label in eval_dataset:\n",
        "  probs_lite = lite_model(image[None, ...])[0]\n",
        "  probs_tf = model(image[None, ...]).numpy()[0]\n",
        "  y_lite = np.argmax(probs_lite)\n",
        "  y_tf = np.argmax(probs_tf)\n",
        "  y_true = np.argmax(label)\n",
        "  count +=1\n",
        "  if y_lite == y_tf: count_lite_tf_agree += 1\n",
        "  if y_lite == y_true: count_lite_correct += 1\n",
        "  if count >= num_eval_examples: break\n",
        "print(\"TF Lite model agrees with original model on %d of %d examples (%g%%).\" %\n",
        "      (count_lite_tf_agree, count, 100.0 * count_lite_tf_agree / count))\n",
        "print(\"TF Lite model is accurate on %d of %d examples (%g%%).\" %\n",
        "      (count_lite_correct, count, 100.0 * count_lite_correct / count))"
      ],
      "execution_count": 0,
      "outputs": [
        {
          "output_type": "stream",
          "text": [
            "TF Lite model agrees with original model on 48 of 50 examples (96%).\n",
            "TF Lite model is accurate on 45 of 50 examples (90%).\n"
          ],
          "name": "stdout"
        }
      ]
    },
    {
      "cell_type": "code",
      "metadata": {
        "id": "AeJ_6zrwhhI5",
        "colab_type": "code",
        "outputId": "7d3426d8-ab88-42ed-9a9b-b327b86122c8",
        "colab": {
          "base_uri": "https://localhost:8080/",
          "height": 34
        }
      },
      "source": [
        "print(os.listdir('/tmp'))"
      ],
      "execution_count": 0,
      "outputs": [
        {
          "output_type": "stream",
          "text": [
            "['tfhub_modules', 'saved_flowers_model', 'lite_flowers_model', 'pymp-yuycw5oe', 'tmptpii1h7k']\n"
          ],
          "name": "stdout"
        }
      ]
    },
    {
      "cell_type": "code",
      "metadata": {
        "id": "JKV45fZFjNCX",
        "colab_type": "code",
        "outputId": "26abef1c-0372-4391-d8b4-804ed87a78c4",
        "colab": {
          "base_uri": "https://localhost:8080/",
          "height": 198
        }
      },
      "source": [
        "from google.colab import drive\n",
        "# drive.mount('/content/gdrive')\n",
        "# converter.convert().save(\"/content/gdrive/My Drive/wiresliterealmodel\")\n",
        "open('/content/gdrive/My Drive/wiresliterealmodel/goodgoodmodel.tflite', 'wb').write(converter.convert())"
      ],
      "execution_count": 0,
      "outputs": [
        {
          "output_type": "error",
          "ename": "FileNotFoundError",
          "evalue": "ignored",
          "traceback": [
            "\u001b[0;31m---------------------------------------------------------------------------\u001b[0m",
            "\u001b[0;31mFileNotFoundError\u001b[0m                         Traceback (most recent call last)",
            "\u001b[0;32m<ipython-input-89-df7a1333231f>\u001b[0m in \u001b[0;36m<module>\u001b[0;34m()\u001b[0m\n\u001b[1;32m      2\u001b[0m \u001b[0;31m# drive.mount('/content/gdrive')\u001b[0m\u001b[0;34m\u001b[0m\u001b[0;34m\u001b[0m\u001b[0;34m\u001b[0m\u001b[0m\n\u001b[1;32m      3\u001b[0m \u001b[0;31m# converter.convert().save(\"/content/gdrive/My Drive/wiresliterealmodel\")\u001b[0m\u001b[0;34m\u001b[0m\u001b[0;34m\u001b[0m\u001b[0;34m\u001b[0m\u001b[0m\n\u001b[0;32m----> 4\u001b[0;31m \u001b[0mopen\u001b[0m\u001b[0;34m(\u001b[0m\u001b[0;34m'/content/gdrive/My Drive/wiresliterealmodel/goodgoodmodel.tflite'\u001b[0m\u001b[0;34m,\u001b[0m \u001b[0;34m'wb'\u001b[0m\u001b[0;34m)\u001b[0m\u001b[0;34m.\u001b[0m\u001b[0mwrite\u001b[0m\u001b[0;34m(\u001b[0m\u001b[0mconverter\u001b[0m\u001b[0;34m.\u001b[0m\u001b[0mconvert\u001b[0m\u001b[0;34m(\u001b[0m\u001b[0;34m)\u001b[0m\u001b[0;34m)\u001b[0m\u001b[0;34m\u001b[0m\u001b[0;34m\u001b[0m\u001b[0m\n\u001b[0m",
            "\u001b[0;31mFileNotFoundError\u001b[0m: [Errno 2] No such file or directory: '/content/gdrive/My Drive/wiresliterealmodel/goodgoodmodel.tflite'"
          ]
        }
      ]
    },
    {
      "cell_type": "code",
      "metadata": {
        "id": "SgckaAjqkQQj",
        "colab_type": "code",
        "colab": {}
      },
      "source": [
        ""
      ],
      "execution_count": 0,
      "outputs": []
    }
  ]
}